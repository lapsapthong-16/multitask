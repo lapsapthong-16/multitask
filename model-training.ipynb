{
 "cells": [
  {
   "cell_type": "code",
   "execution_count": null,
   "id": "e4435f2a",
   "metadata": {},
   "outputs": [],
   "source": [
    "from transformers import RobertaForSequenceClassification, RobertaTokenizer\n",
    "\n",
    "# Path to your saved model directory\n",
    "model_dir = './roberta_sentiment_model_final/'\n",
    "\n",
    "# Load the model\n",
    "model = RobertaForSequenceClassification.from_pretrained(model_dir)\n",
    "\n",
    "# Load the tokenizer (if you want to preprocess new text)\n",
    "tokenizer = RobertaTokenizer.from_pretrained(model_dir)"
   ]
  }
 ],
 "metadata": {
  "language_info": {
   "name": "python"
  }
 },
 "nbformat": 4,
 "nbformat_minor": 5
}
