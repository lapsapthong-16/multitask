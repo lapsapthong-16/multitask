{
 "cells": [
  {
   "cell_type": "code",
   "execution_count": null,
   "id": "1be0053e",
   "metadata": {},
   "outputs": [],
   "source": [
    "from scipy.stats import ttest_rel\n",
    "import numpy as np\n",
    "\n",
    "# === STEP 1: Define your macro-F1 results for each model across 5 seeds ===\n",
    "# Replace these with your actual 5-seed performance values (same order of seeds)\n",
    "\n",
    "# BERTweet models\n",
    "bertweet_sent_single = [0.72, 0.73, 0.74, 0.71, 0.75]\n",
    "bertweet_sent_multi  = [0.76, 0.78, 0.77, 0.75, 0.78]\n",
    "\n",
    "bertweet_emotion_single = [0.68, 0.70, 0.69, 0.67, 0.71]\n",
    "bertweet_emotion_multi  = [0.73, 0.74, 0.75, 0.72, 0.76]\n",
    "\n",
    "# DistilRoBERTa models\n",
    "distil_sent_single = [0.70, 0.71, 0.72, 0.69, 0.73]\n",
    "distil_sent_multi  = [0.74, 0.75, 0.76, 0.73, 0.77]\n",
    "\n",
    "distil_emotion_single = [0.66, 0.67, 0.65, 0.64, 0.68]\n",
    "distil_emotion_multi  = [0.70, 0.72, 0.71, 0.69, 0.73]\n",
    "\n",
    "# === STEP 2: Helper function to run t-test and print results ===\n",
    "def run_ttest(model_name, task, single_scores, multi_scores):\n",
    "    t_stat, p_value = ttest_rel(multi_scores, single_scores)\n",
    "    print(f\"\\n📊 {model_name} - {task}\")\n",
    "    print(f\"Mean (Single): {np.mean(single_scores):.4f}\")\n",
    "    print(f\"Mean (Multi):  {np.mean(multi_scores):.4f}\")\n",
    "    print(f\"T-statistic: {t_stat:.4f}\")\n",
    "    print(f\"P-value:     {p_value:.4f}\")\n",
    "    if p_value < 0.05:\n",
    "        print(\"✅ Statistically significant difference (p < 0.05)\")\n",
    "    else:\n",
    "        print(\"❌ No statistically significant difference (p ≥ 0.05)\")\n",
    "\n",
    "# === STEP 3: Run t-tests for all comparisons ===\n",
    "run_ttest(\"BERTweet\", \"Sentiment\", bertweet_sent_single, bertweet_sent_multi)\n",
    "run_ttest(\"BERTweet\", \"Emotion\", bertweet_emotion_single, bertweet_emotion_multi)\n",
    "run_ttest(\"DistilRoBERTa\", \"Sentiment\", distil_sent_single, distil_sent_multi)\n",
    "run_ttest(\"DistilRoBERTa\", \"Emotion\", distil_emotion_single, distil_emotion_multi)\n"
   ]
  }
 ],
 "metadata": {
  "language_info": {
   "name": "python"
  }
 },
 "nbformat": 4,
 "nbformat_minor": 5
}
